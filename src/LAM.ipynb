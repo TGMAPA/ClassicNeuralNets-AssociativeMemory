{
 "cells": [
  {
   "cell_type": "markdown",
   "id": "6f4f6d1d",
   "metadata": {},
   "source": [
    "**Implementación de red asociativa LAM**\n",
    "\n",
    "**LAM (Memoria Asociativa Lineal)**\n",
    "\n",
    "Integrantes:\n",
    "- Alyson Melissa Sánchez Serratos\n",
    "- Miguel Ángel Pérez Ávila"
   ]
  },
  {
   "cell_type": "markdown",
   "id": "896ee875",
   "metadata": {},
   "source": [
    "# Importación de librerías y Variables Gloabales"
   ]
  },
  {
   "cell_type": "code",
   "execution_count": 11,
   "id": "0efcc9a8",
   "metadata": {},
   "outputs": [],
   "source": [
    "# Importación de librerías\n",
    "import numpy as np\n",
    "import cv2\n",
    "import os\n",
    "import matplotlib.pyplot as plt"
   ]
  },
  {
   "cell_type": "code",
   "execution_count": 12,
   "id": "12ca8e71",
   "metadata": {},
   "outputs": [],
   "source": [
    "# Variables GLobales\n",
    "test_base_path = \"../data/test/\"\n",
    "train_base_path = \"../data/train/\"\n",
    "\n",
    "# Factores de escalamiento para las imagenes\n",
    "scale_factor_x = 0.7  \n",
    "scale_factor_y = 0.7 "
   ]
  },
  {
   "cell_type": "markdown",
   "id": "ef21cd5f",
   "metadata": {},
   "source": [
    "# Funciones"
   ]
  },
  {
   "cell_type": "code",
   "execution_count": 13,
   "id": "c63e0a2b",
   "metadata": {},
   "outputs": [],
   "source": [
    "# Función de activación con valores donde:\n",
    "# Si x >= 0: 1\n",
    "# Si x <  0: 0\n",
    "def escalonAsimetrico(x):\n",
    "    if x >=0:\n",
    "        return 1\n",
    "    return 0\n",
    "\n",
    "# Función de activación con valores -1 o 1\n",
    "# Si x >= 0: 1\n",
    "# Si x <  0: -1\n",
    "def escalonSimetrico(x):\n",
    "    if x >=0:\n",
    "        return 1\n",
    "    return -1\n",
    "\n",
    "def aplicarEscalonAsimetricoAmatrix(x):\n",
    "    for i in range(len(x)):\n",
    "        # Se aplica la función para cada valor del vector\n",
    "        x[i] = escalonAsimetrico(x[i])\n",
    "    return x\n",
    "\n",
    "def aplicarEscalonSimetricoAmatrix(x):\n",
    "    for i in range(len(x)):\n",
    "        # Se aplica la función para cada valor del vector\n",
    "        x[i] = escalonSimetrico(x[i])\n",
    "    return x"
   ]
  },
  {
   "cell_type": "code",
   "execution_count": 14,
   "id": "73fddbca",
   "metadata": {},
   "outputs": [],
   "source": [
    "def transform_Image2Array(image_array, actFunction):\n",
    "    newImage = []\n",
    "    for i in range(len(image_array)):\n",
    "        auxRow = []\n",
    "        for j in range(len(image_array[i])):\n",
    "            if image_array[i][j] == 255:\n",
    "                if actFunction == \"simetrica\":\n",
    "                    auxRow.append(-1)\n",
    "                else:\n",
    "                    auxRow.append(0)\n",
    "            else:\n",
    "                auxRow.append(1)\n",
    "        newImage.append(auxRow)\n",
    "\n",
    "    return newImage\n",
    "\n",
    "def flattenArray(mat):\n",
    "    flat = []\n",
    "    for i in range(len(mat)): # Renglones\n",
    "        for j in range(len(mat[0])):\n",
    "            flat.append(mat[i][j])\n",
    "    flat = np.array(flat, dtype=float)\n",
    "    return flat\n",
    "\n",
    "def processImage(path, activationFunction, scale_factor_x, scale_factor_y):\n",
    "    image_array = cv2.imread(path)\n",
    "\n",
    "    resized_img = cv2.resize(image_array, None, fx=scale_factor_x, fy=scale_factor_y)\n",
    "\n",
    "    image_array = cv2.cvtColor(resized_img, cv2.COLOR_BGR2GRAY)\n",
    "\n",
    "    newImg = np.array(transform_Image2Array(image_array, activationFunction))\n",
    "    flatImg = flattenArray(newImg)\n",
    "\n",
    "    return flatImg\n",
    "\n",
    "def transform_SimetricBinary2AsimetricBinary(vector):\n",
    "    newVector=[]\n",
    "    for i in vector:\n",
    "        if i == -1:\n",
    "            newVector.append(0)\n",
    "        else:\n",
    "            newVector.append(int(i))\n",
    "    return newVector\n",
    "\n",
    "def transform_BinaryVec2str(vector):\n",
    "    string = \"\"\n",
    "    for i in vector:\n",
    "        string+=str(int(i))\n",
    "    return string"
   ]
  },
  {
   "cell_type": "code",
   "execution_count": 15,
   "id": "cb5603ac",
   "metadata": {},
   "outputs": [],
   "source": [
    "def random_bool_flip(value, prob=0.2):\n",
    "    if value:\n",
    "        return True\n",
    "    else:\n",
    "        return np.random.rand() < prob\n",
    "\n",
    "def transform_Image2Array_withNoise(image_array, actFunction, prob):\n",
    "    newImage = []\n",
    "    for i in range(len(image_array)):\n",
    "        auxRow = []\n",
    "        for j in range(len(image_array[i])):\n",
    "\n",
    "            if random_bool_flip(False, prob):\n",
    "                image_array[i][j] = np.random.choice([255,0], p=[0.5, 0.5])\n",
    "\n",
    "            if image_array[i][j] == 255:\n",
    "                if actFunction == \"simetrica\":\n",
    "                    auxRow.append(-1)\n",
    "                else:\n",
    "                    auxRow.append(0)\n",
    "            else:\n",
    "                auxRow.append(1)\n",
    "            \n",
    "        newImage.append(auxRow)\n",
    "\n",
    "    return newImage\n",
    "\n",
    "def processImageWithNoise(path, activationFunction, scale_factor_x, scale_factor_y, prob):\n",
    "    image_array = cv2.imread(path)\n",
    "\n",
    "    resized_img = cv2.resize(image_array, None, fx=scale_factor_x, fy=scale_factor_y)\n",
    "\n",
    "    image_array = cv2.cvtColor(resized_img, cv2.COLOR_BGR2GRAY)\n",
    "\n",
    "    newImg = np.array(transform_Image2Array_withNoise(image_array, activationFunction, prob))\n",
    "    flatImg = flattenArray(newImg)\n",
    "\n",
    "    return flatImg"
   ]
  },
  {
   "cell_type": "markdown",
   "id": "b89b2048",
   "metadata": {},
   "source": [
    "# Implementación LAM (matriz de pesos y bias)"
   ]
  },
  {
   "cell_type": "code",
   "execution_count": 16,
   "id": "6ebd388c",
   "metadata": {},
   "outputs": [],
   "source": [
    "def execLAM(X, Y):\n",
    "   # Inicializar bias dim = (len(b), )\n",
    "    bias = np.zeros(shape=(Y.shape[1],))\n",
    "\n",
    "    # matriz de pesos dim = (len(a), len(b))\n",
    "    W = np.zeros(shape=(X.shape[1],Y.shape[1]))\n",
    "\n",
    "    '''\n",
    "    - Tamaño de W = (len(a), len(b))\n",
    "\n",
    "    - Calculo de matriz de pesos:\n",
    "        Wij = sum( xMi*yMj )\n",
    "\n",
    "        Wij = posición de la matriz de pesos\n",
    "        sum = sumatoria desde m = 1 hasta la cantidad m de muestras\n",
    "        xMi = Valor del vector X (para cada muestra m) en la posición i\n",
    "        yMj = Valor del vector Y (para cada muestra m) en la posición j\n",
    "    '''\n",
    "    for i in range(len(W)):\n",
    "        for j in range(len(W[0])):\n",
    "            acum = 0\n",
    "            for m in range(len(X)):\n",
    "                acum+= (2*X[m][i] - 1)*(2*Y[m][j] - 1)\n",
    "            W[i,j] = acum\n",
    "\n",
    "    '''\n",
    "    El calculo se realiza una vez construida la matriz de pesos.\n",
    "\n",
    "    - Calculo de bias:\n",
    "        thetai = -(1/2)*sum(Wij)\n",
    "\n",
    "        thetai = Valor de bias en la posición i\n",
    "        sum = sumatoria de j, es decir, se suman todos los valores de un renglon i de la matriz\n",
    "        Wij = valor de la matriz de pesos en la ubicación de i de theta y j variable en las iteraciones de la sumatoria\n",
    "    '''\n",
    "    # Calculo de bias utilizando la matriz de W transpuesta para obtener dimensiones correctas\n",
    "    # de bias = (len(b), 1) y NO (len(a), 1)\n",
    "    for i in range(len(W.T)):\n",
    "        acum = 0\n",
    "        for j in range(len(W.T[0])):\n",
    "            acum+= W.T[i, j]\n",
    "        bias[i] = -(1/2)*acum\n",
    "\n",
    "    print(\"W: \",W.shape,\"\\n\",W)\n",
    "    bias = np.reshape(bias, (bias.shape[0], 1)) # redimensionar bias como vector columna (len(b), 1)\n",
    "    print(\"bias: \",bias.shape,\"\\n\", bias)\n",
    "\n",
    "    return W, bias"
   ]
  },
  {
   "cell_type": "code",
   "execution_count": 17,
   "id": "d7aa9ecf",
   "metadata": {},
   "outputs": [],
   "source": [
    "def predict(aInput, W, bias, activationfunction):\n",
    "    # Y_pred = XW + bias \n",
    "    result=  np.dot(W.T, aInput) + bias\n",
    "     # Aplicar al resultado la función de activación deseada para todos los elementos del vector\n",
    "    if activationfunction== \"simetrica\":\n",
    "        result = aplicarEscalonSimetricoAmatrix(result)\n",
    "    else:\n",
    "        result = aplicarEscalonAsimetricoAmatrix(result)\n",
    "        \n",
    "    return result"
   ]
  },
  {
   "cell_type": "markdown",
   "id": "c879a478",
   "metadata": {},
   "source": [
    "# Funcion de Pruebas Automatizadas"
   ]
  },
  {
   "cell_type": "code",
   "execution_count": 18,
   "id": "27b79d83",
   "metadata": {},
   "outputs": [],
   "source": [
    "def systematicTest(W, bias, sample, y_true, activationFunction, tagIdxDict):\n",
    "    aInput = np.array(sample)\n",
    "    aInput = np.reshape(aInput, (aInput.shape[0],1) )\n",
    "    print(\"Tag Real...\")\n",
    "    print(y_true)\n",
    "    newy_true = transform_SimetricBinary2AsimetricBinary(y_true)\n",
    "    \n",
    "    print(tagIdxDict[transform_BinaryVec2str(newy_true)])\n",
    "\n",
    "    print(\"\\nTag Predicho...\")\n",
    "    \n",
    "    # Prediccion\n",
    "    y_pred = predict(aInput, W, bias, activationFunction)\n",
    "\n",
    "    newy_pred = y_pred.T[0]\n",
    "    print(newy_pred)\n",
    "\n",
    "    if activationFunction == \"simetrica\":\n",
    "        # transformar salida a binario clasico para buscar en el diccionario de clases\n",
    "        newy_pred = transform_SimetricBinary2AsimetricBinary(newy_pred)\n",
    "    \n",
    "    # Buscar directamente\n",
    "    if transform_BinaryVec2str(newy_pred) in tagIdxDict.keys():\n",
    "        print(tagIdxDict[transform_BinaryVec2str(newy_pred)])\n",
    "    else:\n",
    "        print(\"Patron Nuevo\")\n"
   ]
  },
  {
   "cell_type": "markdown",
   "id": "656eabcc",
   "metadata": {},
   "source": [
    "# Entrenamiento LAM | Función de Activación Escalón Simétrico"
   ]
  },
  {
   "cell_type": "code",
   "execution_count": 19,
   "id": "f916fb7a",
   "metadata": {},
   "outputs": [],
   "source": [
    "# Funcion de activación\n",
    "activationFunction = \"simetrica\""
   ]
  },
  {
   "cell_type": "markdown",
   "id": "a0758aed",
   "metadata": {},
   "source": [
    "## Lectura de Archivos"
   ]
  },
  {
   "cell_type": "code",
   "execution_count": 20,
   "id": "f752852d",
   "metadata": {},
   "outputs": [
    {
     "name": "stdout",
     "output_type": "stream",
     "text": [
      "(26, 5476)\n",
      "(26, 5476)\n",
      "(26, 5)\n",
      "(26, 5)\n"
     ]
    }
   ],
   "source": [
    "# Data sets \n",
    "Xtrain = []\n",
    "Ytrain = []\n",
    "Ytest= []\n",
    "Xtest = []\n",
    "\n",
    "# Construcción de conjunto de prueba\n",
    "tagIdxDict_test = {}\n",
    "index = 0\n",
    "for file in sorted(os.listdir(test_base_path)):\n",
    "        # Procesamiento de imagenes\n",
    "        image = processImage(test_base_path+file, activationFunction, scale_factor_x, scale_factor_y)\n",
    "        Xtest.append(image)\n",
    "\n",
    "        tag = file[0]\n",
    "\n",
    "        # Obtener etiqueta en notación binaria\n",
    "        tag_binario = format(index, '05b') \n",
    "        \n",
    "        # Tag_binario -> Vector\n",
    "        vector = []\n",
    "        for i in tag_binario:\n",
    "            if i == \"0\" and activationFunction == \"simetrica\":\n",
    "                vector.append(-1)\n",
    "            else:\n",
    "                vector.append(int(i))\n",
    "\n",
    "        tagIdxDict_test[tag_binario] = tag\n",
    "\n",
    "        # Añadir la etiqueta al conjunto Y\n",
    "        Ytest.append(vector)\n",
    "        index+=1\n",
    "\n",
    "# Construcción de conjunto de entrenamiento\n",
    "tagIdxDict_train = {}\n",
    "index = 0\n",
    "for file in sorted(os.listdir(train_base_path)):\n",
    "        image = processImage(train_base_path+file, activationFunction, scale_factor_x, scale_factor_y)\n",
    "        Xtrain.append(image)\n",
    "\n",
    "        tag = file[0]\n",
    "\n",
    "        # Obtener etiqueta en notación binaria\n",
    "        tag_binario = format(index, '05b') \n",
    "\n",
    "        # Tag_binario -> Vector\n",
    "        vector = []\n",
    "        for i in tag_binario:\n",
    "            if i == \"0\" and activationFunction == \"simetrica\":\n",
    "                vector.append(-1)\n",
    "            else:\n",
    "                vector.append(int(i))\n",
    "\n",
    "        tagIdxDict_train[tag_binario] = tag\n",
    "\n",
    "        # Añadir la etiqueta al conjunto Y\n",
    "        Ytrain.append(vector)\n",
    "        index+=1\n",
    "\n",
    "# Cast de list() a np.array()\n",
    "Xtrain = np.array(Xtrain)\n",
    "Xtest = np.array(Xtest)\n",
    "Ytrain = np.array(Ytrain)\n",
    "Ytest = np.array(Ytest)\n",
    "\n",
    "print(Xtrain.shape)\n",
    "print(Xtest.shape)\n",
    "print(Ytrain.shape)\n",
    "print(Ytest.shape)"
   ]
  },
  {
   "cell_type": "code",
   "execution_count": 21,
   "id": "443dbf81",
   "metadata": {},
   "outputs": [
    {
     "data": {
      "text/plain": [
       "<matplotlib.image.AxesImage at 0x7feb2929b650>"
      ]
     },
     "execution_count": 21,
     "metadata": {},
     "output_type": "execute_result"
    },
    {
     "data": {
      "image/png": "[encoded data removed]",
      "text/plain": [
       "<Figure size 640x480 with 1 Axes>"
      ]
     },
     "metadata": {},
     "output_type": "display_data"
    }
   ],
   "source": [
    "# Mostrar ejemplo de muestra\n",
    "pixels = 74\n",
    "input = np.reshape(Xtrain[0], shape=(pixels,pixels))\n",
    "\n",
    "input2image = np.where(input == -1, 255, 0).astype(np.uint8)\n",
    "\n",
    "plt.imshow(input2image, cmap='gray', vmin=0, vmax=255)"
   ]
  },
  {
   "cell_type": "code",
   "execution_count": 22,
   "id": "e126153d",
   "metadata": {},
   "outputs": [
    {
     "name": "stdout",
     "output_type": "stream",
     "text": [
      "Tag:  00000    |  Value:  a\n",
      "Tag:  00001    |  Value:  b\n",
      "Tag:  00010    |  Value:  c\n",
      "Tag:  00011    |  Value:  d\n",
      "Tag:  00100    |  Value:  e\n",
      "Tag:  00101    |  Value:  f\n",
      "Tag:  00110    |  Value:  g\n",
      "Tag:  00111    |  Value:  h\n",
      "Tag:  01000    |  Value:  i\n",
      "Tag:  01001    |  Value:  j\n",
      "Tag:  01010    |  Value:  k\n",
      "Tag:  01011    |  Value:  l\n",
      "Tag:  01100    |  Value:  m\n",
      "Tag:  01101    |  Value:  n\n",
      "Tag:  01110    |  Value:  o\n",
      "Tag:  01111    |  Value:  p\n",
      "Tag:  10000    |  Value:  q\n",
      "Tag:  10001    |  Value:  r\n",
      "Tag:  10010    |  Value:  s\n",
      "Tag:  10011    |  Value:  t\n",
      "Tag:  10100    |  Value:  u\n",
      "Tag:  10101    |  Value:  v\n",
      "Tag:  10110    |  Value:  w\n",
      "Tag:  10111    |  Value:  x\n",
      "Tag:  11000    |  Value:  y\n",
      "Tag:  11001    |  Value:  z\n"
     ]
    }
   ],
   "source": [
    "# Mostrar tags y valores del conjunto de datos\n",
    "for key, value in tagIdxDict_train.items():\n",
    "    print(\"Tag: \", key, \"   |  Value: \", value)"
   ]
  },
  {
   "cell_type": "markdown",
   "id": "0f2bb6a9",
   "metadata": {},
   "source": [
    "## Separación de Conjuntos"
   ]
  },
  {
   "cell_type": "code",
   "execution_count": 23,
   "id": "e08417b9",
   "metadata": {},
   "outputs": [
    {
     "name": "stdout",
     "output_type": "stream",
     "text": [
      "(4, 5476)\n",
      "(4, 5476)\n",
      "(4, 5)\n",
      "(4, 5)\n"
     ]
    }
   ],
   "source": [
    "# Indices de separación para el conjunto de prueba y entrenamiento\n",
    "idx = 10\n",
    "idx_sup = 14\n",
    "m = idx_sup-idx\n",
    "\n",
    "Xtrain_simetric = Xtrain[idx:idx_sup, :]\n",
    "Xtest_simetric = Xtest[idx:idx_sup, :]\n",
    "Ytrain_simetric = Ytrain[idx:idx_sup]\n",
    "Ytest_simetric = Ytest[idx:idx_sup]\n",
    "print(Xtrain_simetric.shape)\n",
    "print(Xtest_simetric.shape)\n",
    "print(Ytrain_simetric.shape)\n",
    "print(Ytest_simetric.shape)"
   ]
  },
  {
   "cell_type": "markdown",
   "id": "1d8cc42a",
   "metadata": {},
   "source": [
    "## Entrenamiento"
   ]
  },
  {
   "cell_type": "code",
   "execution_count": null,
   "id": "377c1dc6",
   "metadata": {},
   "outputs": [],
   "source": [
    "optimizedW, optimizedBias = execLAM(Xtrain_simetric, Ytrain_simetric)"
   ]
  },
  {
   "cell_type": "markdown",
   "id": "acd5ee59",
   "metadata": {},
   "source": [
    "## Predicciones"
   ]
  },
  {
   "cell_type": "markdown",
   "id": "a29e911b",
   "metadata": {},
   "source": [
    "### Utilizando las Muestras de Entrenamiento"
   ]
  },
  {
   "cell_type": "code",
   "execution_count": 25,
   "id": "e542fbb1",
   "metadata": {},
   "outputs": [
    {
     "name": "stdout",
     "output_type": "stream",
     "text": [
      "Tag Real...\n",
      "[-1  1 -1  1 -1]\n",
      "k\n",
      "\n",
      "Tag Predicho...\n",
      "[-1.  1. -1. -1. -1.]\n",
      "i\n"
     ]
    }
   ],
   "source": [
    "sample_M = 0\n",
    "systematicTest(optimizedW, optimizedBias, Xtrain_simetric[sample_M], Ytrain_simetric[sample_M], activationFunction, tagIdxDict_train)"
   ]
  },
  {
   "cell_type": "code",
   "execution_count": 26,
   "id": "64841925",
   "metadata": {},
   "outputs": [
    {
     "name": "stdout",
     "output_type": "stream",
     "text": [
      "================ Test:  0\n",
      "Tag Real...\n",
      "[-1  1 -1  1 -1]\n",
      "k\n",
      "\n",
      "Tag Predicho...\n",
      "[-1.  1. -1. -1. -1.]\n",
      "i\n",
      "================ Test:  1\n",
      "Tag Real...\n",
      "[-1  1 -1  1  1]\n",
      "l\n",
      "\n",
      "Tag Predicho...\n",
      "[-1.  1. -1. -1. -1.]\n",
      "i\n",
      "================ Test:  2\n",
      "Tag Real...\n",
      "[-1  1  1 -1 -1]\n",
      "m\n",
      "\n",
      "Tag Predicho...\n",
      "[-1.  1. -1. -1. -1.]\n",
      "i\n",
      "================ Test:  3\n",
      "Tag Real...\n",
      "[-1  1  1 -1  1]\n",
      "n\n",
      "\n",
      "Tag Predicho...\n",
      "[-1.  1. -1. -1. -1.]\n",
      "i\n"
     ]
    }
   ],
   "source": [
    "M=m\n",
    "for m in range(M):\n",
    "    print(\"================ Test: \", m)\n",
    "    systematicTest(optimizedW, optimizedBias, Xtrain_simetric[m], Ytrain_simetric[m], activationFunction, tagIdxDict_train)"
   ]
  },
  {
   "cell_type": "markdown",
   "id": "cec57d8c",
   "metadata": {},
   "source": [
    "### Utilizando las Muestras de Prueba - Ruido de Forma"
   ]
  },
  {
   "cell_type": "code",
   "execution_count": 27,
   "id": "d4620149",
   "metadata": {},
   "outputs": [
    {
     "data": {
      "text/plain": [
       "<matplotlib.image.AxesImage at 0x7feb28964610>"
      ]
     },
     "execution_count": 27,
     "metadata": {},
     "output_type": "execute_result"
    },
    {
     "data": {
      "image/png": "[encoded data removed]",
      "text/plain": [
       "<Figure size 640x480 with 1 Axes>"
      ]
     },
     "metadata": {},
     "output_type": "display_data"
    }
   ],
   "source": [
    "input = np.reshape(Xtest_simetric[0], shape=(pixels,pixels))\n",
    "\n",
    "input2image = np.where(input == -1, 255, 0).astype(np.uint8)\n",
    "\n",
    "plt.imshow(input2image, cmap='gray', vmin=0, vmax=255)"
   ]
  },
  {
   "cell_type": "code",
   "execution_count": 28,
   "id": "b88d75c0",
   "metadata": {},
   "outputs": [
    {
     "name": "stdout",
     "output_type": "stream",
     "text": [
      "================ Test:  0\n",
      "Tag Real...\n",
      "[-1  1 -1  1 -1]\n",
      "k\n",
      "\n",
      "Tag Predicho...\n",
      "[-1.  1. -1. -1. -1.]\n",
      "i\n",
      "================ Test:  1\n",
      "Tag Real...\n",
      "[-1  1 -1  1  1]\n",
      "l\n",
      "\n",
      "Tag Predicho...\n",
      "[-1.  1. -1. -1. -1.]\n",
      "i\n",
      "================ Test:  2\n",
      "Tag Real...\n",
      "[-1  1  1 -1 -1]\n",
      "m\n",
      "\n",
      "Tag Predicho...\n",
      "[-1.  1. -1. -1. -1.]\n",
      "i\n",
      "================ Test:  3\n",
      "Tag Real...\n",
      "[-1  1  1 -1  1]\n",
      "n\n",
      "\n",
      "Tag Predicho...\n",
      "[-1.  1. -1. -1. -1.]\n",
      "i\n"
     ]
    }
   ],
   "source": [
    "for m in range(M):\n",
    "    print(\"================ Test: \", m)\n",
    "    systematicTest(optimizedW, optimizedBias, Xtest_simetric[m], Ytest_simetric[m], activationFunction, tagIdxDict_test)\n"
   ]
  },
  {
   "cell_type": "markdown",
   "id": "16c9b680",
   "metadata": {},
   "source": [
    "### Utilizando las Muestras de Prueba - Ruido de Bits aleatorios - Factor 0.2"
   ]
  },
  {
   "cell_type": "markdown",
   "id": "72e3f669",
   "metadata": {},
   "source": [
    "#### Transformar Muestras de entrenamiento a añadiendo ruido a las imagenes de acuerdo con una probabilidad de activación para cada pixel"
   ]
  },
  {
   "cell_type": "code",
   "execution_count": 29,
   "id": "a34b0dca",
   "metadata": {},
   "outputs": [
    {
     "name": "stdout",
     "output_type": "stream",
     "text": [
      "(26, 5476)\n",
      "(26, 5)\n"
     ]
    }
   ],
   "source": [
    "Xtest_noise_simetric = []\n",
    "Ytest_noise_simetric = []\n",
    "\n",
    "noiseProb = 0.2\n",
    "\n",
    "# Construcción de conjunto de prueba con ruido\n",
    "tagIdxDict_test_noise = {}\n",
    "index = 0\n",
    "for file in sorted(os.listdir(train_base_path)):\n",
    "        image = processImageWithNoise(train_base_path+file, activationFunction, scale_factor_x, scale_factor_y, noiseProb)\n",
    "        Xtest_noise_simetric.append(image)\n",
    "\n",
    "        tag = file[0]\n",
    "\n",
    "        # Obtener etiqueta en formato binario\n",
    "        tag_binario = format(index, '05b') \n",
    "\n",
    "        # Tag_binario -> Vector\n",
    "        vector = []\n",
    "        for i in tag_binario:\n",
    "            if i == \"0\" and activationFunction == \"simetrica\":\n",
    "                vector.append(-1)\n",
    "            else:\n",
    "                vector.append(int(i))\n",
    "\n",
    "        tagIdxDict_test_noise[tag_binario] = tag\n",
    "\n",
    "        # Añadir etiqueta al vector Y\n",
    "        Ytest_noise_simetric.append(vector)\n",
    "        index+=1\n",
    "\n",
    "Xtest_noise_simetric = np.array(Xtest_noise_simetric)\n",
    "Ytest_noise_simetric = np.array(Ytest_noise_simetric)\n",
    "\n",
    "print(Xtest_noise_simetric.shape)\n",
    "print(Ytest_noise_simetric.shape)"
   ]
  },
  {
   "cell_type": "code",
   "execution_count": 30,
   "id": "fa49d074",
   "metadata": {},
   "outputs": [
    {
     "name": "stdout",
     "output_type": "stream",
     "text": [
      "(4, 5476)\n",
      "(4, 5)\n"
     ]
    }
   ],
   "source": [
    "Xtest_noise_simetric = Xtest_noise_simetric[idx:idx_sup, :]\n",
    "Ytest_noise_simetric = Ytest_noise_simetric[idx:idx_sup]\n",
    "print(Xtest_noise_simetric.shape)\n",
    "print(Ytest_noise_simetric.shape)"
   ]
  },
  {
   "cell_type": "code",
   "execution_count": 31,
   "id": "13a7dff8",
   "metadata": {},
   "outputs": [
    {
     "data": {
      "text/plain": [
       "<matplotlib.image.AxesImage at 0x7feb28a8fad0>"
      ]
     },
     "execution_count": 31,
     "metadata": {},
     "output_type": "execute_result"
    },
    {
     "data": {
      "image/png": "[encoded data removed]",
      "text/plain": [
       "<Figure size 640x480 with 1 Axes>"
      ]
     },
     "metadata": {},
     "output_type": "display_data"
    }
   ],
   "source": [
    "input = np.reshape(Xtest_noise_simetric[0], shape=(pixels,pixels))\n",
    "\n",
    "input2image = np.where(input == -1, 255, 0).astype(np.uint8)\n",
    "\n",
    "plt.imshow(input2image, cmap='gray', vmin=0, vmax=255)"
   ]
  },
  {
   "cell_type": "markdown",
   "id": "a40286d8",
   "metadata": {},
   "source": [
    "#### Ejecución de Pruebas"
   ]
  },
  {
   "cell_type": "code",
   "execution_count": 32,
   "id": "138f922b",
   "metadata": {},
   "outputs": [
    {
     "name": "stdout",
     "output_type": "stream",
     "text": [
      "================ Test:  0\n",
      "Tag Real...\n",
      "[-1  1 -1  1 -1]\n",
      "k\n",
      "\n",
      "Tag Predicho...\n",
      "[-1.  1. -1. -1. -1.]\n",
      "i\n",
      "================ Test:  1\n",
      "Tag Real...\n",
      "[-1  1 -1  1  1]\n",
      "l\n",
      "\n",
      "Tag Predicho...\n",
      "[-1.  1. -1. -1. -1.]\n",
      "i\n",
      "================ Test:  2\n",
      "Tag Real...\n",
      "[-1  1  1 -1 -1]\n",
      "m\n",
      "\n",
      "Tag Predicho...\n",
      "[-1.  1. -1. -1. -1.]\n",
      "i\n",
      "================ Test:  3\n",
      "Tag Real...\n",
      "[-1  1  1 -1  1]\n",
      "n\n",
      "\n",
      "Tag Predicho...\n",
      "[-1.  1. -1. -1. -1.]\n",
      "i\n"
     ]
    }
   ],
   "source": [
    "for m in range(M):\n",
    "    print(\"================ Test: \", m)\n",
    "    systematicTest(optimizedW, optimizedBias, Xtest_noise_simetric[m], Ytest_noise_simetric[m], activationFunction, tagIdxDict_test_noise)"
   ]
  },
  {
   "cell_type": "markdown",
   "id": "289b8441",
   "metadata": {},
   "source": [
    "### Utilizando las Muestras de Prueba - Ruido de Bits aleatorios - Factor 0.75"
   ]
  },
  {
   "cell_type": "markdown",
   "id": "e62d5616",
   "metadata": {},
   "source": [
    "#### Transformar Muestras de entrenamiento a añadiendo ruido a las imagenes de acuerdo con una probabilidad de activación para cada pixel"
   ]
  },
  {
   "cell_type": "code",
   "execution_count": 33,
   "id": "959140ef",
   "metadata": {},
   "outputs": [
    {
     "name": "stdout",
     "output_type": "stream",
     "text": [
      "(26, 5476)\n",
      "(26, 5)\n"
     ]
    }
   ],
   "source": [
    "Xtest_noise_simetric = []\n",
    "Ytest_noise_simetric = []\n",
    "\n",
    "noiseProb = 0.75\n",
    "\n",
    "# Construcción de conjunto de prueba con ruido\n",
    "tagIdxDict_test_noise = {}\n",
    "index = 0\n",
    "for file in sorted(os.listdir(train_base_path)):\n",
    "        image = processImageWithNoise(train_base_path+file, activationFunction, scale_factor_x, scale_factor_y, noiseProb)\n",
    "        Xtest_noise_simetric.append(image)\n",
    "        \n",
    "        tag = file[0]\n",
    "\n",
    "        # Obtener etiqueta en formato binario\n",
    "        tag_binario = format(index, '05b') \n",
    "\n",
    "        # Tag_binario -> Vector\n",
    "        vector = []\n",
    "        for i in tag_binario:\n",
    "            if i == \"0\" and activationFunction == \"simetrica\":\n",
    "                vector.append(-1)\n",
    "            else:\n",
    "                vector.append(int(i))\n",
    "\n",
    "        tagIdxDict_test_noise[tag_binario] = tag\n",
    "\n",
    "        # Añadir etiqueta al conjunto Y\n",
    "        Ytest_noise_simetric.append(vector)\n",
    "        index+=1\n",
    "\n",
    "Xtest_noise_simetric = np.array(Xtest_noise_simetric)\n",
    "Ytest_noise_simetric = np.array(Ytest_noise_simetric)\n",
    "\n",
    "print(Xtest_noise_simetric.shape)\n",
    "print(Ytest_noise_simetric.shape)"
   ]
  },
  {
   "cell_type": "code",
   "execution_count": 34,
   "id": "7c2c0504",
   "metadata": {},
   "outputs": [
    {
     "name": "stdout",
     "output_type": "stream",
     "text": [
      "(4, 5476)\n",
      "(4, 5)\n"
     ]
    }
   ],
   "source": [
    "Xtest_noise_simetric = Xtest_noise_simetric[idx:idx_sup, :]\n",
    "Ytest_noise_simetric = Ytest_noise_simetric[idx:idx_sup]\n",
    "print(Xtest_noise_simetric.shape)\n",
    "print(Ytest_noise_simetric.shape)"
   ]
  },
  {
   "cell_type": "code",
   "execution_count": 35,
   "id": "be16f90e",
   "metadata": {},
   "outputs": [
    {
     "data": {
      "text/plain": [
       "<matplotlib.image.AxesImage at 0x7feb28670a10>"
      ]
     },
     "execution_count": 35,
     "metadata": {},
     "output_type": "execute_result"
    },
    {
     "data": {
      "image/png": "[encoded data removed]",
      "text/plain": [
       "<Figure size 640x480 with 1 Axes>"
      ]
     },
     "metadata": {},
     "output_type": "display_data"
    }
   ],
   "source": [
    "input = np.reshape(Xtest_noise_simetric[0], shape=(pixels,pixels))\n",
    "\n",
    "input2image = np.where(input == -1, 255, 0).astype(np.uint8)\n",
    "\n",
    "plt.imshow(input2image, cmap='gray', vmin=0, vmax=255)"
   ]
  },
  {
   "cell_type": "markdown",
   "id": "96627df5",
   "metadata": {},
   "source": [
    "#### Ejecución de Pruebas"
   ]
  },
  {
   "cell_type": "code",
   "execution_count": 36,
   "id": "f2ef057d",
   "metadata": {},
   "outputs": [
    {
     "name": "stdout",
     "output_type": "stream",
     "text": [
      "================ Test:  0\n",
      "Tag Real...\n",
      "[-1  1 -1  1 -1]\n",
      "k\n",
      "\n",
      "Tag Predicho...\n",
      "[-1.  1. -1. -1. -1.]\n",
      "i\n",
      "================ Test:  1\n",
      "Tag Real...\n",
      "[-1  1 -1  1  1]\n",
      "l\n",
      "\n",
      "Tag Predicho...\n",
      "[-1.  1. -1. -1. -1.]\n",
      "i\n",
      "================ Test:  2\n",
      "Tag Real...\n",
      "[-1  1  1 -1 -1]\n",
      "m\n",
      "\n",
      "Tag Predicho...\n",
      "[-1.  1. -1. -1. -1.]\n",
      "i\n",
      "================ Test:  3\n",
      "Tag Real...\n",
      "[-1  1  1 -1  1]\n",
      "n\n",
      "\n",
      "Tag Predicho...\n",
      "[-1.  1. -1. -1. -1.]\n",
      "i\n"
     ]
    }
   ],
   "source": [
    "for m in range(M):\n",
    "    print(\"================ Test: \", m)\n",
    "    systematicTest(optimizedW, optimizedBias, Xtest_noise_simetric[m], Ytest_noise_simetric[m], activationFunction, tagIdxDict_test_noise)\n"
   ]
  },
  {
   "cell_type": "markdown",
   "id": "6d0ba4a4",
   "metadata": {},
   "source": [
    "# Entrenamiento LAM | Función de Activación Escalón Asimétrico "
   ]
  },
  {
   "cell_type": "code",
   "execution_count": 37,
   "id": "e745670f",
   "metadata": {},
   "outputs": [],
   "source": [
    "# Función de activación\n",
    "activationFunction = \"asimetrica\""
   ]
  },
  {
   "cell_type": "markdown",
   "id": "9cc78f64",
   "metadata": {},
   "source": [
    "## Lectura de Archivos"
   ]
  },
  {
   "cell_type": "code",
   "execution_count": 38,
   "id": "b5c5646b",
   "metadata": {},
   "outputs": [
    {
     "name": "stdout",
     "output_type": "stream",
     "text": [
      "(26, 5476)\n",
      "(26, 5476)\n",
      "(26, 5)\n",
      "(26, 5)\n"
     ]
    }
   ],
   "source": [
    "# Data sets \n",
    "Xtrain = []\n",
    "Ytrain = []\n",
    "Ytest= []\n",
    "Xtest = []\n",
    "\n",
    "# Construcción de conjunto de prueba\n",
    "tagIdxDict_test = {}\n",
    "index = 0\n",
    "for file in sorted(os.listdir(test_base_path)):\n",
    "        # Procesamiento de imagenes\n",
    "        image = processImage(test_base_path+file, activationFunction, scale_factor_x, scale_factor_y)\n",
    "        Xtest.append(image)\n",
    "\n",
    "        tag = file[0]\n",
    "\n",
    "        # Obtener etiqueta en formato binario\n",
    "        tag_binario = format(index, '05b') \n",
    "        \n",
    "        # Tag_binario -> Vector\n",
    "        vector = []\n",
    "        for i in tag_binario:\n",
    "            if i == \"0\" and activationFunction == \"simetrica\":\n",
    "                vector.append(-1)\n",
    "            else:\n",
    "                vector.append(int(i))\n",
    "\n",
    "        tagIdxDict_test[tag_binario] = tag\n",
    "\n",
    "        # Añadir etiqueta a vector Y\n",
    "        Ytest.append(vector)\n",
    "        index+=1\n",
    "\n",
    "# Construcción de conjunto de entrenamiento\n",
    "tagIdxDict_train = {}\n",
    "index = 0\n",
    "for file in sorted(os.listdir(train_base_path)):\n",
    "        # Procesamiento de imagenes\n",
    "        image = processImage(train_base_path+file, activationFunction, scale_factor_x, scale_factor_y)\n",
    "        Xtrain.append(image)\n",
    "        \n",
    "        tag = file[0]\n",
    "\n",
    "        # Obtener etiqueta en formato binario\n",
    "        tag_binario = format(index, '05b') \n",
    "\n",
    "        # Tag_binario -> Vector\n",
    "        vector = []\n",
    "        for i in tag_binario:\n",
    "            if i == \"0\" and activationFunction == \"simetrica\":\n",
    "                vector.append(-1)\n",
    "            else:\n",
    "                vector.append(int(i))\n",
    "\n",
    "        tagIdxDict_train[tag_binario] = tag\n",
    "\n",
    "        # Añadir etiqueta a vector Y\n",
    "        Ytrain.append(vector)\n",
    "        index+=1\n",
    "\n",
    "Xtrain = np.array(Xtrain)\n",
    "Xtest = np.array(Xtest)\n",
    "Ytrain = np.array(Ytrain)\n",
    "Ytest = np.array(Ytest)\n",
    "\n",
    "print(Xtrain.shape)\n",
    "print(Xtest.shape)\n",
    "print(Ytrain.shape)\n",
    "print(Ytest.shape)"
   ]
  },
  {
   "cell_type": "code",
   "execution_count": 39,
   "id": "61bd06a1",
   "metadata": {},
   "outputs": [
    {
     "name": "stdout",
     "output_type": "stream",
     "text": [
      "(4, 5476)\n",
      "(4, 5476)\n",
      "(4, 5)\n",
      "(4, 5)\n"
     ]
    }
   ],
   "source": [
    "Xtrain_asimetric = Xtrain[idx:idx_sup, :]\n",
    "Xtest_asimetric = Xtest[idx:idx_sup, :]\n",
    "Ytrain_asimetric = Ytrain[idx:idx_sup]\n",
    "Ytest_asimetric = Ytest[idx:idx_sup]\n",
    "print(Xtrain_asimetric.shape)\n",
    "print(Xtest_asimetric.shape)\n",
    "print(Ytrain_asimetric.shape)\n",
    "print(Ytest_asimetric.shape)"
   ]
  },
  {
   "cell_type": "code",
   "execution_count": 40,
   "id": "51253bb1",
   "metadata": {},
   "outputs": [
    {
     "data": {
      "text/plain": [
       "<matplotlib.image.AxesImage at 0x7feb2864bc90>"
      ]
     },
     "execution_count": 40,
     "metadata": {},
     "output_type": "execute_result"
    },
    {
     "data": {
      "image/png": "[encoded data removed]",
      "text/plain": [
       "<Figure size 640x480 with 1 Axes>"
      ]
     },
     "metadata": {},
     "output_type": "display_data"
    }
   ],
   "source": [
    "input = np.reshape(Xtrain_asimetric[0], shape=(pixels,pixels))\n",
    "\n",
    "input2image = np.where(input == 0, 255, 1).astype(np.uint8)\n",
    "\n",
    "plt.imshow(input2image, cmap='gray', vmin=0, vmax=255)"
   ]
  },
  {
   "cell_type": "markdown",
   "id": "97401d7e",
   "metadata": {},
   "source": [
    "## Entrenamiento"
   ]
  },
  {
   "cell_type": "code",
   "execution_count": null,
   "id": "eadffca2",
   "metadata": {},
   "outputs": [],
   "source": [
    "optimizedW, optimizedBias = execLAM(Xtrain_asimetric, Ytrain_asimetric)"
   ]
  },
  {
   "cell_type": "markdown",
   "id": "31dfb88b",
   "metadata": {},
   "source": [
    "## Predicciones"
   ]
  },
  {
   "cell_type": "markdown",
   "id": "d6cf4c91",
   "metadata": {},
   "source": [
    "### Utilizando las Muestras de Entrenamiento"
   ]
  },
  {
   "cell_type": "code",
   "execution_count": 42,
   "id": "a3c4f3d4",
   "metadata": {},
   "outputs": [
    {
     "name": "stdout",
     "output_type": "stream",
     "text": [
      "Tag Real...\n",
      "[0 1 0 1 0]\n",
      "k\n",
      "\n",
      "Tag Predicho...\n",
      "[0. 1. 0. 1. 0.]\n",
      "k\n"
     ]
    }
   ],
   "source": [
    "sample_M = 0\n",
    "systematicTest(optimizedW, optimizedBias, Xtrain_asimetric[sample_M], Ytrain_asimetric[sample_M], activationFunction, tagIdxDict_train)"
   ]
  },
  {
   "cell_type": "code",
   "execution_count": 43,
   "id": "41fc23d2",
   "metadata": {},
   "outputs": [
    {
     "name": "stdout",
     "output_type": "stream",
     "text": [
      "================ Test:  0\n",
      "Tag Real...\n",
      "[0 1 0 1 0]\n",
      "k\n",
      "\n",
      "Tag Predicho...\n",
      "[0. 1. 0. 1. 0.]\n",
      "k\n",
      "================ Test:  1\n",
      "Tag Real...\n",
      "[0 1 0 1 1]\n",
      "l\n",
      "\n",
      "Tag Predicho...\n",
      "[0. 1. 0. 1. 1.]\n",
      "l\n",
      "================ Test:  2\n",
      "Tag Real...\n",
      "[0 1 1 0 0]\n",
      "m\n",
      "\n",
      "Tag Predicho...\n",
      "[0. 1. 1. 0. 0.]\n",
      "m\n",
      "================ Test:  3\n",
      "Tag Real...\n",
      "[0 1 1 0 1]\n",
      "n\n",
      "\n",
      "Tag Predicho...\n",
      "[0. 1. 1. 0. 1.]\n",
      "n\n"
     ]
    }
   ],
   "source": [
    "for m in range(M):\n",
    "    print(\"================ Test: \", m)\n",
    "    systematicTest(optimizedW, optimizedBias, Xtrain_asimetric[m], Ytrain_asimetric[m], activationFunction, tagIdxDict_train)\n"
   ]
  },
  {
   "cell_type": "markdown",
   "id": "479f4d95",
   "metadata": {},
   "source": [
    "### Utilizando las Muestras de Prueba - Ruido de Forma"
   ]
  },
  {
   "cell_type": "code",
   "execution_count": 44,
   "id": "38a858c2",
   "metadata": {},
   "outputs": [
    {
     "data": {
      "text/plain": [
       "<matplotlib.image.AxesImage at 0x7feb26433c90>"
      ]
     },
     "execution_count": 44,
     "metadata": {},
     "output_type": "execute_result"
    },
    {
     "data": {
      "image/png": "[encoded data removed]",
      "text/plain": [
       "<Figure size 640x480 with 1 Axes>"
      ]
     },
     "metadata": {},
     "output_type": "display_data"
    }
   ],
   "source": [
    "input = np.reshape(Xtest_simetric[0], shape=(pixels,pixels))\n",
    "\n",
    "input2image = np.where(input == -1, 255, 0).astype(np.uint8)\n",
    "\n",
    "plt.imshow(input2image, cmap='gray', vmin=0, vmax=255)"
   ]
  },
  {
   "cell_type": "code",
   "execution_count": 45,
   "id": "bc892a0c",
   "metadata": {},
   "outputs": [
    {
     "name": "stdout",
     "output_type": "stream",
     "text": [
      "================ Test:  0\n",
      "Tag Real...\n",
      "[0 1 0 1 0]\n",
      "k\n",
      "\n",
      "Tag Predicho...\n",
      "[0. 1. 0. 1. 1.]\n",
      "l\n",
      "================ Test:  1\n",
      "Tag Real...\n",
      "[0 1 0 1 1]\n",
      "l\n",
      "\n",
      "Tag Predicho...\n",
      "[0. 1. 0. 1. 1.]\n",
      "l\n",
      "================ Test:  2\n",
      "Tag Real...\n",
      "[0 1 1 0 0]\n",
      "m\n",
      "\n",
      "Tag Predicho...\n",
      "[0. 1. 1. 0. 1.]\n",
      "n\n",
      "================ Test:  3\n",
      "Tag Real...\n",
      "[0 1 1 0 1]\n",
      "n\n",
      "\n",
      "Tag Predicho...\n",
      "[0. 1. 0. 1. 1.]\n",
      "l\n"
     ]
    }
   ],
   "source": [
    "for m in range(M):\n",
    "    print(\"================ Test: \", m)\n",
    "    systematicTest(optimizedW, optimizedBias, Xtest_asimetric[m], Ytest_asimetric[m], activationFunction, tagIdxDict_test)\n"
   ]
  },
  {
   "cell_type": "markdown",
   "id": "23e53d15",
   "metadata": {},
   "source": [
    "### Utilizando las Muestras de Prueba - Ruido de Bits aleatorios - Factor 0.2"
   ]
  },
  {
   "cell_type": "markdown",
   "id": "ee2f2775",
   "metadata": {},
   "source": [
    "#### Transformar Muestras de entrenamiento a añadiendo ruido a las imagenes de acuerdo con una probabilidad de activación para cada pixel"
   ]
  },
  {
   "cell_type": "code",
   "execution_count": 46,
   "id": "870f89c3",
   "metadata": {},
   "outputs": [
    {
     "name": "stdout",
     "output_type": "stream",
     "text": [
      "(26, 5476)\n",
      "(26, 5)\n"
     ]
    }
   ],
   "source": [
    "Xtest_noise_asimetric = []\n",
    "Ytest_noise_asimetric = []\n",
    "\n",
    "noiseProb = 0.2\n",
    "\n",
    "# COnstrucción de conjunto de prueba con ruido\n",
    "tagIdxDict_test_noise = {}\n",
    "index = 0\n",
    "for file in sorted(os.listdir(train_base_path)):\n",
    "        image = processImageWithNoise(train_base_path+file, activationFunction, scale_factor_x, scale_factor_y, noiseProb)\n",
    "        Xtest_noise_asimetric.append(image)\n",
    "\n",
    "        tag = file[0]\n",
    "\n",
    "        # Obtener etiqueta en formato binario \n",
    "        tag_binario = format(index, '05b') \n",
    "\n",
    "        # Tag_binario -> Vector\n",
    "        vector = []\n",
    "        for i in tag_binario:\n",
    "            if i == \"0\" and activationFunction == \"simetrica\":\n",
    "                vector.append(-1)\n",
    "            else:\n",
    "                vector.append(int(i))\n",
    "\n",
    "        tagIdxDict_test_noise[tag_binario] = tag\n",
    "\n",
    "        # Añadir etiqueta al conjunto Y\n",
    "        Ytest_noise_asimetric.append(vector)\n",
    "        index+=1\n",
    "\n",
    "Xtest_noise_asimetric = np.array(Xtest_noise_asimetric)\n",
    "Ytest_noise_asimetric = np.array(Ytest_noise_asimetric)\n",
    "\n",
    "print(Xtest_noise_asimetric.shape)\n",
    "print(Ytest_noise_asimetric.shape)"
   ]
  },
  {
   "cell_type": "code",
   "execution_count": 47,
   "id": "843a2bc5",
   "metadata": {},
   "outputs": [
    {
     "name": "stdout",
     "output_type": "stream",
     "text": [
      "(4, 5476)\n",
      "(4, 5)\n"
     ]
    }
   ],
   "source": [
    "Xtest_noise_asimetric = Xtest_noise_asimetric[idx:idx_sup, :]\n",
    "Ytest_noise_asimetric = Ytest_noise_asimetric[idx:idx_sup]\n",
    "print(Xtest_noise_asimetric.shape)\n",
    "print(Ytest_noise_asimetric.shape)"
   ]
  },
  {
   "cell_type": "code",
   "execution_count": 48,
   "id": "d5dd6e2e",
   "metadata": {},
   "outputs": [
    {
     "data": {
      "text/plain": [
       "<matplotlib.image.AxesImage at 0x7feb262ce0d0>"
      ]
     },
     "execution_count": 48,
     "metadata": {},
     "output_type": "execute_result"
    },
    {
     "data": {
      "image/png": "[encoded data removed]",
      "text/plain": [
       "<Figure size 640x480 with 1 Axes>"
      ]
     },
     "metadata": {},
     "output_type": "display_data"
    }
   ],
   "source": [
    "input = np.reshape(Xtest_noise_asimetric[0], shape=(pixels,pixels))\n",
    "\n",
    "input2image = np.where(input == 0, 255, 0).astype(np.uint8)\n",
    "\n",
    "plt.imshow(input2image, cmap='gray', vmin=0, vmax=255)"
   ]
  },
  {
   "cell_type": "markdown",
   "id": "bd45f0e6",
   "metadata": {},
   "source": [
    "#### Ejecución de Pruebas"
   ]
  },
  {
   "cell_type": "code",
   "execution_count": 49,
   "id": "111406f7",
   "metadata": {},
   "outputs": [
    {
     "name": "stdout",
     "output_type": "stream",
     "text": [
      "================ Test:  0\n",
      "Tag Real...\n",
      "[0 1 0 1 0]\n",
      "k\n",
      "\n",
      "Tag Predicho...\n",
      "[0. 1. 0. 1. 0.]\n",
      "k\n",
      "================ Test:  1\n",
      "Tag Real...\n",
      "[0 1 0 1 1]\n",
      "l\n",
      "\n",
      "Tag Predicho...\n",
      "[0. 1. 0. 1. 1.]\n",
      "l\n",
      "================ Test:  2\n",
      "Tag Real...\n",
      "[0 1 1 0 0]\n",
      "m\n",
      "\n",
      "Tag Predicho...\n",
      "[0. 1. 1. 0. 0.]\n",
      "m\n",
      "================ Test:  3\n",
      "Tag Real...\n",
      "[0 1 1 0 1]\n",
      "n\n",
      "\n",
      "Tag Predicho...\n",
      "[0. 1. 1. 0. 1.]\n",
      "n\n"
     ]
    }
   ],
   "source": [
    "for m in range(M):\n",
    "    print(\"================ Test: \", m)\n",
    "    systematicTest(optimizedW, optimizedBias, Xtest_noise_asimetric[m], Ytest_noise_asimetric[m], activationFunction, tagIdxDict_test_noise)\n"
   ]
  },
  {
   "cell_type": "markdown",
   "id": "58f3f103",
   "metadata": {},
   "source": [
    "### Utilizando las Muestras de Prueba - Ruido de Bits aleatorios - Factor 0.75"
   ]
  },
  {
   "cell_type": "markdown",
   "id": "df4d1219",
   "metadata": {},
   "source": [
    "#### Transformar Muestras de entrenamiento a añadiendo ruido a las imagenes de acuerdo con una probabilidad de activación para cada pixel"
   ]
  },
  {
   "cell_type": "code",
   "execution_count": 50,
   "id": "ec988a26",
   "metadata": {},
   "outputs": [
    {
     "name": "stdout",
     "output_type": "stream",
     "text": [
      "(26, 5476)\n",
      "(26, 5)\n"
     ]
    }
   ],
   "source": [
    "Xtest_noise_asimetric = []\n",
    "Ytest_noise_asimetric = []\n",
    "\n",
    "noiseProb = 0.75\n",
    "\n",
    "# Construcción del conjunto de prueba con ruido\n",
    "tagIdxDict_test_noise = {}\n",
    "index = 0\n",
    "for file in sorted(os.listdir(train_base_path)):\n",
    "        # Procesamiento de imagenes\n",
    "        image = processImageWithNoise(train_base_path+file, activationFunction, scale_factor_x, scale_factor_y, noiseProb)\n",
    "        Xtest_noise_asimetric.append(image)\n",
    "        tag = file[0]\n",
    "\n",
    "        # Obtener etiqueta con formato binario \n",
    "        tag_binario = format(index, '05b') \n",
    "\n",
    "        # Tag_binario -> Vector\n",
    "        vector = []\n",
    "        for i in tag_binario:\n",
    "            if i == \"0\" and activationFunction == \"simetrica\":\n",
    "                vector.append(-1)\n",
    "            else:\n",
    "                vector.append(int(i))\n",
    "\n",
    "        tagIdxDict_test_noise[tag_binario] = tag\n",
    "\n",
    "        # Añadir etiqueta al conjunto Y\n",
    "        Ytest_noise_asimetric.append(vector)\n",
    "        index+=1\n",
    "\n",
    "Xtest_noise_asimetric = np.array(Xtest_noise_asimetric)\n",
    "Ytest_noise_asimetric = np.array(Ytest_noise_asimetric)\n",
    "\n",
    "print(Xtest_noise_asimetric.shape)\n",
    "print(Ytest_noise_asimetric.shape)"
   ]
  },
  {
   "cell_type": "code",
   "execution_count": 51,
   "id": "a20cdcfa",
   "metadata": {},
   "outputs": [
    {
     "name": "stdout",
     "output_type": "stream",
     "text": [
      "(4, 5476)\n",
      "(4, 5)\n"
     ]
    }
   ],
   "source": [
    "Xtest_noise_asimetric = Xtest_noise_asimetric[idx:idx_sup, :]\n",
    "Ytest_noise_asimetric = Ytest_noise_asimetric[idx:idx_sup]\n",
    "print(Xtest_noise_asimetric.shape)\n",
    "print(Ytest_noise_asimetric.shape)"
   ]
  },
  {
   "cell_type": "code",
   "execution_count": 52,
   "id": "c1844144",
   "metadata": {},
   "outputs": [
    {
     "data": {
      "text/plain": [
       "<matplotlib.image.AxesImage at 0x7feb26354790>"
      ]
     },
     "execution_count": 52,
     "metadata": {},
     "output_type": "execute_result"
    },
    {
     "data": {
      "image/png": "[encoded data removed]",
      "text/plain": [
       "<Figure size 640x480 with 1 Axes>"
      ]
     },
     "metadata": {},
     "output_type": "display_data"
    }
   ],
   "source": [
    "input = np.reshape(Xtest_noise_asimetric[0], shape=(pixels,pixels))\n",
    "\n",
    "input2image = np.where(input == 0, 255, 0).astype(np.uint8)\n",
    "\n",
    "plt.imshow(input2image, cmap='gray', vmin=0, vmax=255)"
   ]
  },
  {
   "cell_type": "markdown",
   "id": "fe511489",
   "metadata": {},
   "source": [
    "#### Ejecución de Pruebas"
   ]
  },
  {
   "cell_type": "code",
   "execution_count": 53,
   "id": "01a7b792",
   "metadata": {},
   "outputs": [
    {
     "name": "stdout",
     "output_type": "stream",
     "text": [
      "================ Test:  0\n",
      "Tag Real...\n",
      "[0 1 0 1 0]\n",
      "k\n",
      "\n",
      "Tag Predicho...\n",
      "[0. 1. 0. 1. 0.]\n",
      "k\n",
      "================ Test:  1\n",
      "Tag Real...\n",
      "[0 1 0 1 1]\n",
      "l\n",
      "\n",
      "Tag Predicho...\n",
      "[0. 1. 0. 1. 1.]\n",
      "l\n",
      "================ Test:  2\n",
      "Tag Real...\n",
      "[0 1 1 0 0]\n",
      "m\n",
      "\n",
      "Tag Predicho...\n",
      "[0. 1. 1. 0. 0.]\n",
      "m\n",
      "================ Test:  3\n",
      "Tag Real...\n",
      "[0 1 1 0 1]\n",
      "n\n",
      "\n",
      "Tag Predicho...\n",
      "[0. 1. 1. 0. 1.]\n",
      "n\n"
     ]
    }
   ],
   "source": [
    "for m in range(M):\n",
    "    print(\"================ Test: \", m)\n",
    "    systematicTest(optimizedW, optimizedBias, Xtest_noise_asimetric[m], Ytest_noise_asimetric[m], activationFunction, tagIdxDict_test_noise)\n"
   ]
  }
 ],
 "metadata": {
  "kernelspec": {
   "display_name": "dataScience",
   "language": "python",
   "name": "python3"
  },
  "language_info": {
   "codemirror_mode": {
    "name": "ipython",
    "version": 3
   },
   "file_extension": ".py",
   "mimetype": "text/x-python",
   "name": "python",
   "nbconvert_exporter": "python",
   "pygments_lexer": "ipython3",
   "version": "3.11.13"
  }
 },
 "nbformat": 4,
 "nbformat_minor": 5
}
